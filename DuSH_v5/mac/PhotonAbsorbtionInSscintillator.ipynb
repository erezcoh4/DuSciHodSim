{
 "cells": [
  {
   "cell_type": "code",
   "execution_count": 1,
   "metadata": {},
   "outputs": [],
   "source": [
    "import numpy as np\n",
    "import matplotlib.pyplot as plt\n",
    "import pandas as pd"
   ]
  },
  {
   "cell_type": "markdown",
   "metadata": {},
   "source": [
    "## Check photon absorbtion in scintillator"
   ]
  },
  {
   "cell_type": "code",
   "execution_count": 2,
   "metadata": {},
   "outputs": [],
   "source": [
    "path = '/Users/erezcohen/Desktop/data/DuSiHodSim/output/csv_files/';"
   ]
  },
  {
   "cell_type": "code",
   "execution_count": 54,
   "metadata": {},
   "outputs": [],
   "source": [
    "TrappingEff = []\n",
    "TrappingEffErr = []\n",
    "sim_results = pd.read_csv(path + 'version_5.0_n_1.50_emit_from_center_photons.csv');\n",
    "Narrived = len(sim_results[sim_results.ArrivedAtFrontFacet==1])\n",
    "Ntotal = len(sim_results)\n",
    "\n",
    "frac_absorbed_in_bin = []\n",
    "l_in_bin = []\n",
    "l_array = np.linspace(0,10000,10)\n",
    "for i in np.arange(0,len(l_array)-1):\n",
    "    sim_results_in_bin = sim_results[(sim_results.TotalPathLength>l_array[i])\n",
    "                                     & (sim_results.TotalPathLength<=l_array[i+1])]\n",
    "    N_in    len(sim_results_in_bin)\n",
    "#     print len(sim_results_in_bin)\n",
    "    if len(sim_results_in_bin)>0:\n",
    "        l_in_bin.append( np.mean(sim_results_in_bin.TotalPathLength) )\n",
    "        frac_absorbed_in_bin.append( float(len(sim_results_in_bin[sim_results_in_bin.AbsorbedInScintillator==1]) ) \n",
    "                                    / len(sim_results_in_bin) )\n",
    "    else:\n",
    "        l_in_bin.append( 0.5*(l_array[i] + l_array[i+1]) )\n",
    "        frac_absorbed_in_bin.append(0);\n",
    "frac_absorbed_in_bin = np.array(frac_absorbed_in_bin)"
   ]
  },
  {
   "cell_type": "code",
   "execution_count": 55,
   "metadata": {},
   "outputs": [
    {
     "data": {
      "text/plain": [
       "array([0.03043968, 0.1399177 , 0.1875    , 0.33333333, 0.45833333,\n",
       "       1.        , 0.66666667, 0.        , 0.76056338])"
      ]
     },
     "execution_count": 55,
     "metadata": {},
     "output_type": "execute_result"
    }
   ],
   "source": [
    "frac_absorbed_in_bin"
   ]
  },
  {
   "cell_type": "code",
   "execution_count": 56,
   "metadata": {},
   "outputs": [
    {
     "data": {
      "image/png": "[encoded data removed]",
      "text/plain": [
       "<Figure size 648x432 with 1 Axes>"
      ]
     },
     "metadata": {
      "needs_background": "light"
     },
     "output_type": "display_data"
    }
   ],
   "source": [
    "figure = plt.figure(figsize=(9,6));\n",
    "ax = figure.add_subplot(1,1,1)\n",
    "plt.plot( l_in_bin, frac_absorbed_in_bin , 'o')\n",
    "ax.set_xlabel('total path length [mm]',fontsize=15)\n",
    "ax.set_ylabel('fraction of absorbed photons',fontsize=15);\n",
    "for tick in ax.xaxis.get_major_ticks():\n",
    "    tick.label.set_fontsize(15)\n",
    "for tick in ax.yaxis.get_major_ticks():\n",
    "    tick.label.set_fontsize(15)\n",
    "ax.set_aspect('auto')\n",
    "ax.grid()"
   ]
  },
  {
   "cell_type": "code",
   "execution_count": 52,
   "metadata": {},
   "outputs": [],
   "source": [
    "#THIS IS A PROBLEM: ITS SUPPOSE TO BE RISING AS A FUNCTION OF L"
   ]
  },
  {
   "cell_type": "code",
   "execution_count": null,
   "metadata": {},
   "outputs": [],
   "source": []
  }
 ],
 "metadata": {
  "kernelspec": {
   "display_name": "Python 2",
   "language": "python",
   "name": "python2"
  },
  "language_info": {
   "codemirror_mode": {
    "name": "ipython",
    "version": 2
   },
   "file_extension": ".py",
   "mimetype": "text/x-python",
   "name": "python",
   "nbconvert_exporter": "python",
   "pygments_lexer": "ipython2",
   "version": "2.7.17"
  }
 },
 "nbformat": 4,
 "nbformat_minor": 2
}
