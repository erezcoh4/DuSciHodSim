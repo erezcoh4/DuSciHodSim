{
 "cells": [
  {
   "cell_type": "code",
   "execution_count": 3,
   "metadata": {},
   "outputs": [],
   "source": [
    "import numpy as np\n",
    "import matplotlib.pyplot as plt\n",
    "import pandas as pd"
   ]
  },
  {
   "cell_type": "markdown",
   "metadata": {},
   "source": [
    "## compute trapping efficiency "
   ]
  },
  {
   "cell_type": "code",
   "execution_count": 54,
   "metadata": {},
   "outputs": [],
   "source": [
    "path = '/Users/erezcohen/Desktop/data/DuSiHodSim/output/csv_files/';\n",
    "n_array = np.arange(1,2.1,0.1)"
   ]
  },
  {
   "cell_type": "code",
   "execution_count": 87,
   "metadata": {},
   "outputs": [],
   "source": [
    "TrappingEff = []\n",
    "TrappingEffErr = []\n",
    "for n_idx in np.arange(0,11,1):\n",
    "    sim_results = pd.read_csv(path + 'version_4.0_n_%.2f_emit_from_center_photons.csv'%n_array[n_idx]);\n",
    "    Narrived = len(sim_results[sim_results.ArrivedAtFrontFacet==1])\n",
    "    Ntotal = len(sim_results)\n",
    "    TrappingEff.append(float(Narrived) / Ntotal)\n",
    "    TrappingEffErr.append(TrappingEff[-1] * np.sqrt( 1./Narrived + 1./Ntotal ))\n",
    "TrappingEff = np.array(TrappingEff)\n",
    "TrappingEffErr = np.array(TrappingEffErr)"
   ]
  },
  {
   "cell_type": "code",
   "execution_count": 113,
   "metadata": {},
   "outputs": [
    {
     "data": {
      "image/png": "[encoded data removed]",
      "text/plain": [
       "<Figure size 648x432 with 1 Axes>"
      ]
     },
     "metadata": {
      "needs_background": "light"
     },
     "output_type": "display_data"
    }
   ],
   "source": [
    "figure = plt.figure(figsize=(9,6));\n",
    "ax = figure.add_subplot(1,1,1)\n",
    "plt.errorbar( n_array , TrappingEff , TrappingEffErr , fmt='s' , markersize=10 , capsize=2, capthick=2)\n",
    "ax.set_xlabel('refractive index',fontsize=15)\n",
    "ax.set_ylabel('trapping efficiency',fontsize=15);\n",
    "for tick in ax.xaxis.get_major_ticks():\n",
    "    tick.label.set_fontsize(15)\n",
    "for tick in ax.yaxis.get_major_ticks():\n",
    "    tick.label.set_fontsize(15)\n",
    "ax.set_aspect('auto')\n",
    "ax.grid()"
   ]
  },
  {
   "cell_type": "code",
   "execution_count": 84,
   "metadata": {},
   "outputs": [
    {
     "data": {
      "text/plain": [
       "10"
      ]
     },
     "execution_count": 84,
     "metadata": {},
     "output_type": "execute_result"
    }
   ],
   "source": [
    "# n_array.size\n",
    "# TrappingEff.size\n",
    "TrappingEff.size"
   ]
  },
  {
   "cell_type": "code",
   "execution_count": 58,
   "metadata": {},
   "outputs": [
    {
     "data": {
      "text/plain": [
       "array([1, 2, 3, 4, 5, 6, 7, 8, 9])"
      ]
     },
     "execution_count": 58,
     "metadata": {},
     "output_type": "execute_result"
    }
   ],
   "source": [
    "np.arange(1,10,1)"
   ]
  },
  {
   "cell_type": "code",
   "execution_count": null,
   "metadata": {},
   "outputs": [],
   "source": []
  }
 ],
 "metadata": {
  "kernelspec": {
   "display_name": "Python 2",
   "language": "python",
   "name": "python2"
  },
  "language_info": {
   "codemirror_mode": {
    "name": "ipython",
    "version": 2
   },
   "file_extension": ".py",
   "mimetype": "text/x-python",
   "name": "python",
   "nbconvert_exporter": "python",
   "pygments_lexer": "ipython2",
   "version": "2.7.17"
  }
 },
 "nbformat": 4,
 "nbformat_minor": 2
}
